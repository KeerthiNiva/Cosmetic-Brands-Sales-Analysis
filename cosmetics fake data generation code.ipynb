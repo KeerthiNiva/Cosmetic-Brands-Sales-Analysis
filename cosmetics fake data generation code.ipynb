{
  "nbformat": 4,
  "nbformat_minor": 0,
  "metadata": {
    "colab": {
      "provenance": []
    },
    "kernelspec": {
      "name": "python3",
      "display_name": "Python 3"
    },
    "language_info": {
      "name": "python"
    }
  },
  "cells": [
    {
      "cell_type": "code",
      "execution_count": 1,
      "metadata": {
        "colab": {
          "base_uri": "https://localhost:8080/"
        },
        "id": "KsdzXGC3MAoV",
        "outputId": "01169d04-5a1d-4f90-ac51-eba2320ea9a4"
      },
      "outputs": [
        {
          "output_type": "stream",
          "name": "stdout",
          "text": [
            "Requirement already satisfied: Faker in /usr/local/lib/python3.10/dist-packages (24.1.0)\n",
            "Requirement already satisfied: python-dateutil>=2.4 in /usr/local/lib/python3.10/dist-packages (from Faker) (2.8.2)\n",
            "Requirement already satisfied: six>=1.5 in /usr/local/lib/python3.10/dist-packages (from python-dateutil>=2.4->Faker) (1.16.0)\n"
          ]
        }
      ],
      "source": [
        "pip install Faker\n"
      ]
    },
    {
      "cell_type": "code",
      "source": [
        "import pandas as pd\n",
        "import numpy as np\n",
        "from faker import Faker\n",
        "from datetime import datetime, timedelta\n",
        "import random\n"
      ],
      "metadata": {
        "id": "wg4HEq4OMSd8"
      },
      "execution_count": 2,
      "outputs": []
    },
    {
      "cell_type": "code",
      "source": [],
      "metadata": {
        "id": "dK7MQI0mXp6v"
      },
      "execution_count": null,
      "outputs": []
    },
    {
      "cell_type": "code",
      "source": [
        "fake = Faker()"
      ],
      "metadata": {
        "id": "ObyJMNGsMU2k"
      },
      "execution_count": 3,
      "outputs": []
    },
    {
      "cell_type": "code",
      "source": [
        "# Define the lists of values for different columns\n",
        "cosmetics_brands = ['Loreal', 'Maybelline', 'MAC', 'Estee Lauder', 'NARS', 'Revlon', 'Clinique', 'Covergirl', 'Urban Decay', 'Tarte']\n",
        "warehouses = ['New York', 'Florida', 'California', 'Texas', 'Chicago']\n",
        "shipping_companies = [fake.company() for _ in range(5)]\n",
        "customers = ['Sephora', 'Ulta Beauty', 'MAC Cosmetics', 'Nordstrom', 'Walmart', 'Target', 'Amazon', 'CVS Pharmacy', 'Walgreens', 'Boots']\n",
        "cities = ['New York City, New York', 'Los Angeles, California', 'Chicago, Illinois', 'Houston, Texas',\n",
        "          'Philadelphia, Pennsylvania', 'Phoenix, Arizona', 'San Antonio, Texas', 'San Diego, California',\n",
        "          'Dallas, Texas', 'San Francisco, California', 'Austin, Texas', 'Boston, Massachusetts',\n",
        "          'Seattle, Washington', 'Denver, Colorado', 'Miami, Florida']"
      ],
      "metadata": {
        "id": "TwWO7fkKMU-D"
      },
      "execution_count": 4,
      "outputs": []
    },
    {
      "cell_type": "code",
      "source": [
        "start_date = datetime(2020, 1, 1)\n",
        "end_date = datetime(2023, 12, 31)"
      ],
      "metadata": {
        "id": "6kcbqq9JNH5L"
      },
      "execution_count": 5,
      "outputs": []
    },
    {
      "cell_type": "code",
      "source": [
        "# Generate fake data\n",
        "data = {\n",
        "    'Product': [random.choice(cosmetics_brands) for _ in range(20000)],\n",
        "    'Order ID': np.random.randint(10000, 99999, size=20000),\n",
        "    'Item Processing cost': np.random.uniform(1,5, size=20000),\n",
        "    'Weight': np.random.uniform(100, 1000, size=20000),\n",
        "    'Revenue': np.random.uniform(1000, 10000, size=20000),\n",
        "    'Profit': np.random.uniform(100, 1000, size=20000),\n",
        "    'Warehouse': [random.choice(warehouses) for _ in range(20000)],\n",
        "    'Inventory': np.random.uniform(100, 1000, size=20000),\n",
        "    'Customer': [random.choice(customers) for _ in range(20000)],\n",
        "    'City': [random.choice(cities) for _ in range(20000)],\n",
        "    'Shipping Company': [random.choice(shipping_companies) for _ in range(20000)],\n",
        "    'Order Date': [fake.date_time_between(start_date=start_date, end_date=end_date) for _ in range(20000)]\n",
        "}"
      ],
      "metadata": {
        "id": "iax-C0hjNSOs"
      },
      "execution_count": 6,
      "outputs": []
    },
    {
      "cell_type": "code",
      "source": [
        "df = pd.DataFrame(data)"
      ],
      "metadata": {
        "id": "VEQ5Wvu1OB6j"
      },
      "execution_count": 7,
      "outputs": []
    },
    {
      "cell_type": "code",
      "source": [
        "# Additional KPIs (based on cosmetics sales data)\n",
        "df['Cost per unit'] = df['Item Processing cost'] / df['Weight']\n",
        "df['Profit margin'] = (df['Profit'] / df['Revenue']) * 100\n",
        "df['Average order size'] = df.groupby('Order ID')['Weight'].transform('sum')\n",
        "df['Inventory turnover'] = df['Weight'] / df['Inventory']"
      ],
      "metadata": {
        "id": "M6iqWFKgOZvc"
      },
      "execution_count": 8,
      "outputs": []
    },
    {
      "cell_type": "code",
      "source": [
        "# Save DataFrame to CSV\n",
        "df.to_csv('C:/Users/keert/Downloads/cosmetics_data.csv', index=False)"
      ],
      "metadata": {
        "id": "hUD0sLwYSP1w"
      },
      "execution_count": 11,
      "outputs": []
    }
  ]
}